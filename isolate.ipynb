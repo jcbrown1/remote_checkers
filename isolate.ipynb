{
 "cells": [
  {
   "cell_type": "code",
   "execution_count": 1,
   "metadata": {},
   "outputs": [
    {
     "data": {
      "text/plain": [
       "True"
      ]
     },
     "execution_count": 1,
     "metadata": {},
     "output_type": "execute_result"
    }
   ],
   "source": [
    "import numpy as np\n",
    "import cv2 as cv\n",
    "\n",
    "# Load the chessboard image\n",
    "raw_img_path = 'good_pics/IMG_3382.JPG'\n",
    "raw_img = cv.imread(raw_img_path)\n",
    "assert raw_img is not None, f\"image not found at '{raw_img_path}'!\"\n",
    "\n",
    "# Run Canny edge detection algorithm\n",
    "canny_img = cv.Canny(raw_img, 50, 300)\n",
    "assert canny_img is not raw_img\n",
    "cv.imwrite('canny_img.png', canny_img)\n",
    "\n",
    "# Rip contours from canny_img pixels and draw contours over raw_img\n",
    "contours, hierarchy = cv.findContours(canny_img, cv.RETR_TREE, cv.CHAIN_APPROX_NONE)\n",
    "all_contours_img = cv.drawContours(raw_img, contours, -1, (255, 0, 0), 10)\n",
    "cv.imwrite('all_contours_img.png', all_contours_img)"
   ]
  },
  {
   "cell_type": "code",
   "execution_count": 2,
   "metadata": {},
   "outputs": [
    {
     "data": {
      "text/plain": [
       "302"
      ]
     },
     "execution_count": 2,
     "metadata": {},
     "output_type": "execute_result"
    }
   ],
   "source": [
    "len(contours)"
   ]
  }
 ],
 "metadata": {
  "kernelspec": {
   "display_name": "env",
   "language": "python",
   "name": "python3"
  },
  "language_info": {
   "codemirror_mode": {
    "name": "ipython",
    "version": 3
   },
   "file_extension": ".py",
   "mimetype": "text/x-python",
   "name": "python",
   "nbconvert_exporter": "python",
   "pygments_lexer": "ipython3",
   "version": "3.10.12"
  },
  "orig_nbformat": 4
 },
 "nbformat": 4,
 "nbformat_minor": 2
}
